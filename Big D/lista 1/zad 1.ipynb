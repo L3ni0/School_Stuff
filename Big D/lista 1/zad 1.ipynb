{
 "cells": [
  {
   "cell_type": "code",
   "execution_count": 19,
   "metadata": {
    "collapsed": true
   },
   "outputs": [],
   "source": [
    "from matplotlib import pyplot as plt\n",
    "from scipy import stats\n",
    "import numpy as np\n",
    "import random"
   ]
  },
  {
   "cell_type": "code",
   "execution_count": 20,
   "outputs": [
    {
     "data": {
      "text/plain": "array([ 1.6, 30.9, 42.2, 43.5, 19.8, 45.3, 43.1,  6.2, 40.4, 31.8, 18. ,\n       45.5,  3.1,  4.7,  1. , 34.8, 43.9,  7.6, 10. , 35.2, -1.9, 37.6,\n       19.7, 29. ,  8.6, 28.4, 23.4, 34.4, 12.5, 15.6, 17.3, 33.4, 24.8,\n       16.7, 34.3, 35. , 16.7, 37.8, 38.2,  7.9])"
     },
     "execution_count": 20,
     "metadata": {},
     "output_type": "execute_result"
    }
   ],
   "source": [
    "X = np.array([random.randint(0,15) for _ in range(40)])\n",
    "Y = np.array([x*3 + (random.randint(-20,20)/10) for x in X]) # y = x*3 + 0\n",
    "Y"
   ],
   "metadata": {
    "collapsed": false,
    "pycharm": {
     "name": "#%%\n"
    }
   }
  },
  {
   "cell_type": "code",
   "execution_count": 21,
   "outputs": [
    {
     "name": "stdout",
     "output_type": "stream",
     "text": [
      "-0.5213026238083174 stala\n",
      "3.036024635113473 wartosc x\n"
     ]
    }
   ],
   "source": [
    "regresion = stats.linregress(X,Y)\n",
    "print(regresion.intercept,'stala')\n",
    "print(regresion.slope,'wartosc x')"
   ],
   "metadata": {
    "collapsed": false,
    "pycharm": {
     "name": "#%%\n"
    }
   }
  },
  {
   "cell_type": "code",
   "execution_count": 22,
   "outputs": [
    {
     "data": {
      "text/plain": "<Figure size 432x288 with 1 Axes>",
      "image/png": "[encoded data removed]"
     },
     "metadata": {
      "needs_background": "light"
     },
     "output_type": "display_data"
    }
   ],
   "source": [
    "plt.plot(X,Y, 'go',label='dane')\n",
    "plt.plot(X, regresion.slope * X + regresion.intercept , color='red', label='regresja')\n",
    "plt.legend()\n",
    "plt.show()"
   ],
   "metadata": {
    "collapsed": false,
    "pycharm": {
     "name": "#%%\n"
    }
   }
  },
  {
   "cell_type": "code",
   "execution_count": 22,
   "outputs": [],
   "source": [],
   "metadata": {
    "collapsed": false,
    "pycharm": {
     "name": "#%%\n"
    }
   }
  }
 ],
 "metadata": {
  "kernelspec": {
   "display_name": "Python 3",
   "language": "python",
   "name": "python3"
  },
  "language_info": {
   "codemirror_mode": {
    "name": "ipython",
    "version": 2
   },
   "file_extension": ".py",
   "mimetype": "text/x-python",
   "name": "python",
   "nbconvert_exporter": "python",
   "pygments_lexer": "ipython2",
   "version": "2.7.6"
  }
 },
 "nbformat": 4,
 "nbformat_minor": 0
}