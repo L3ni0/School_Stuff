{
 "cells": [
  {
   "cell_type": "code",
   "execution_count": 1,
   "metadata": {
    "collapsed": true
   },
   "outputs": [],
   "source": [
    "from matplotlib import pyplot as plt\n",
    "from scipy import optimize, stats\n",
    "import random\n",
    "import numpy as np"
   ]
  },
  {
   "cell_type": "code",
   "execution_count": 2,
   "metadata": {
    "pycharm": {
     "name": "#%%\n"
    }
   },
   "outputs": [
    {
     "data": {
      "text/plain": [
       "array([ 8.16331139, 15.30584372, 17.2365044 , 32.22085746, 24.78323357,\n",
       "       24.15161321, 14.92834294, 33.8254478 , 23.79779238, 32.06813828,\n",
       "        8.6867212 , 31.83000983, 28.79911768, 24.32234605, 22.72558221,\n",
       "        7.62693688, 29.09974232,  6.41154502, 24.79733538, 30.85819346,\n",
       "       30.69768782,  5.04303762, 17.7390861 , 28.79894229, 11.3269544 ,\n",
       "        5.76329159, 27.70383427, 21.37619515, 27.82760912, 24.43378486,\n",
       "       21.18390762, 30.0141728 , 13.4273299 , 25.43894456, 19.85828035,\n",
       "        4.98043794, 30.06203345, 31.34761074,  5.72396356,  8.90859516,\n",
       "        6.87381702,  7.6773945 ,  9.21248267, 26.34611267,  9.27867819,\n",
       "       14.85497439, 30.20676503, 10.48545505, 19.18676951, 27.11060129,\n",
       "       26.62701905, 26.68860267, 14.25736389, 30.43627115, 20.95665739,\n",
       "       24.66900235,  5.9260286 , 30.80004158, 14.12332012, 11.51189844,\n",
       "       19.38410683, 29.60757442, 20.45871944,  7.51581576, 15.40830229,\n",
       "        8.62666065, 18.58054092, 16.64615773, 17.32910659, 32.44537406,\n",
       "        9.08864231, 23.66453446,  5.75102409, 28.5549988 , 30.49752982,\n",
       "       21.35993997, 20.97762856, 25.35277647, 14.78015324,  5.66769806,\n",
       "        9.18158078, 25.236979  , 12.21014312,  5.804794  , 21.34050529,\n",
       "       18.5828885 , 22.32195772, 21.42734364, 19.47842016, 24.83843832,\n",
       "       23.99284146, 19.57417677, 11.30043644, 22.01186588, 12.20270217,\n",
       "       28.28500774, 14.90647619, 13.2338793 ,  9.3397719 , 32.53803156])"
      ]
     },
     "execution_count": 2,
     "metadata": {},
     "output_type": "execute_result"
    }
   ],
   "source": [
    "def model(x, dane):\n",
    "    a,b = dane\n",
    "    return x*a + b\n",
    "\n",
    "wartosci_orh = [2,4]\n",
    "X = np.array([random.uniform(0,15) for _ in range(100)])\n",
    "Y = np.array([model(x,wartosci_orh) + (random.randint(-20,20)/10) for x in X])\n",
    "Y"
   ]
  },
  {
   "cell_type": "code",
   "execution_count": 3,
   "metadata": {
    "pycharm": {
     "name": "#%%\n"
    }
   },
   "outputs": [
    {
     "name": "stdout",
     "output_type": "stream",
     "text": [
      "Optimization terminated successfully.\n",
      "         Current function value: 1.525793\n",
      "         Iterations: 90\n",
      "         Function evaluations: 170\n",
      "2.024891366377371 3.897406398375255\n"
     ]
    }
   ],
   "source": [
    "def blad_kwadratowy(dane,model, x,y):\n",
    "    y_pred = model(x,dane)\n",
    "    return ((y-y_pred)**2).mean()\n",
    "\n",
    "estymator, stala = optimize.fmin(blad_kwadratowy, [0,0], args=(model, X,Y),)\n",
    "print(estymator, stala)"
   ]
  },
  {
   "cell_type": "code",
   "execution_count": 4,
   "metadata": {
    "pycharm": {
     "name": "#%%\n"
    }
   },
   "outputs": [
    {
     "name": "stdout",
     "output_type": "stream",
     "text": [
      "recznie:2.024891366377371, z uzyciem regresji 2.0248928763670593 roznica:1.5099896883974395e-06\n",
      "recznie:3.897406398375255, z uzyciem regresji 3.8974165173082227 roznica:1.8725251509308518\n"
     ]
    }
   ],
   "source": [
    "regresion = stats.linregress(X,Y)\n",
    "print(f'recznie:{estymator}, z uzyciem regresji {regresion.slope} roznica:{abs(estymator-regresion.slope)}')\n"
   ]
  },
  {
   "cell_type": "code",
   "execution_count": 5,
   "metadata": {
    "pycharm": {
     "name": "#%%\n"
    }
   },
   "outputs": [
    {
     "data": {
      "image/png": "[encoded data removed]",
      "text/plain": [
       "<Figure size 432x288 with 1 Axes>"
      ]
     },
     "metadata": {
      "needs_background": "light"
     },
     "output_type": "display_data"
    }
   ],
   "source": [
    "plt.scatter(X,Y, label='dane orginallne')\n",
    "plt.plot(X, [estymator*x + stala for x in X], label='dane predykowane recznie', color='red')\n",
    "plt.plot(X, regresion.slope * X + regresion.intercept , color='green', label='regresja',alpha=0.5)\n",
    "plt.style.use('bmh')\n",
    "plt.legend()\n",
    "plt.show()"
   ]
  },
  {
   "cell_type": "code",
   "execution_count": 5,
   "metadata": {
    "pycharm": {
     "name": "#%%\n"
    }
   },
   "outputs": [],
   "source": []
  }
 ],
 "metadata": {
  "kernelspec": {
   "display_name": "Python 3 (ipykernel)",
   "language": "python",
   "name": "python3"
  },
  "language_info": {
   "codemirror_mode": {
    "name": "ipython",
    "version": 3
   },
   "file_extension": ".py",
   "mimetype": "text/x-python",
   "name": "python",
   "nbconvert_exporter": "python",
   "pygments_lexer": "ipython3",
   "version": "3.9.7"
  }
 },
 "nbformat": 4,
 "nbformat_minor": 1
}
